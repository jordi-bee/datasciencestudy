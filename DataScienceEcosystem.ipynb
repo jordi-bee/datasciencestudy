{
 "cells": [
  {
   "cell_type": "markdown",
   "id": "063b2526-6ce8-4f8f-8573-d1970123b946",
   "metadata": {},
   "source": [
    "# Data Science Tools and Ecosystem"
   ]
  },
  {
   "cell_type": "markdown",
   "id": "107952c4-59e3-4b5e-a572-b4298937cbf6",
   "metadata": {},
   "source": [
    "In this notebook, Data Science Tools and Ecosystem are summarized."
   ]
  },
  {
   "cell_type": "markdown",
   "id": "9e6f1bdd-a9ca-4f07-90c7-64e2c06e6363",
   "metadata": {},
   "source": [
    "**Objectives:**\n",
    "- list popular languages for data Science\n",
    "- list commonly used libraries used by Data Scientists\n",
    "- list Data Science Tools\n",
    "- give examples of evaluating arithmetic expressions in Python"
   ]
  },
  {
   "cell_type": "markdown",
   "id": "6b9f1364-e42b-494e-b653-4df12b5af2c9",
   "metadata": {},
   "source": [
    "Some of the popular languages that Data Scientists use are:\n",
    "1. Python\n",
    "2. R\n",
    "3. SQL"
   ]
  },
  {
   "cell_type": "markdown",
   "id": "f7c94ea9-defe-42d6-8923-247188ed05a5",
   "metadata": {},
   "source": [
    "Some of the commonly used libraries used by Data Scientists include:\n",
    "1. Pandas\n",
    "2. Matplotlib\n",
    "3. dplyr\n",
    "4. ggplot"
   ]
  },
  {
   "cell_type": "markdown",
   "id": "fcc5477d-f9d3-4d8e-b0f1-0e02ca68e9e6",
   "metadata": {},
   "source": [
    "|Data Science Tools|\n",
    "|------------------|\n",
    "| Jupyter Notebooks |\n",
    "| JupyterLab |\n",
    "| RStudio |"
   ]
  },
  {
   "cell_type": "markdown",
   "id": "4e68c783-3e19-40eb-8efb-93955221ffd9",
   "metadata": {},
   "source": [
    "### Below are a few examples of evaluating arithmetic expressions in Python"
   ]
  },
  {
   "cell_type": "code",
   "execution_count": 2,
   "id": "c3d6a282-a026-4d84-8cc0-87560ae064eb",
   "metadata": {},
   "outputs": [
    {
     "data": {
      "text/plain": [
       "17"
      ]
     },
     "execution_count": 2,
     "metadata": {},
     "output_type": "execute_result"
    }
   ],
   "source": [
    "# This is a simple arithmetic expression to mutiply then add integers\n",
    "(3*4)+5"
   ]
  },
  {
   "cell_type": "code",
   "execution_count": 4,
   "id": "2c650807-d734-4248-bf7d-a7bf9a3b0530",
   "metadata": {},
   "outputs": [
    {
     "data": {
      "text/plain": [
       "3.3333333333333335"
      ]
     },
     "execution_count": 4,
     "metadata": {},
     "output_type": "execute_result"
    }
   ],
   "source": [
    "# This will convert 200 minutes to hours by diving by 60\n",
    "200/60"
   ]
  },
  {
   "cell_type": "markdown",
   "id": "343da9eb-45ca-405c-bfcc-f5b3f7cc0980",
   "metadata": {},
   "source": [
    "## Author\n",
    "Jordana Bauch"
   ]
  },
  {
   "cell_type": "code",
   "execution_count": null,
   "id": "faff024a-db4a-4217-b1f9-1d6dcce49002",
   "metadata": {},
   "outputs": [],
   "source": []
  }
 ],
 "metadata": {
  "kernelspec": {
   "display_name": "Python 3 (ipykernel)",
   "language": "python",
   "name": "python3"
  },
  "language_info": {
   "codemirror_mode": {
    "name": "ipython",
    "version": 3
   },
   "file_extension": ".py",
   "mimetype": "text/x-python",
   "name": "python",
   "nbconvert_exporter": "python",
   "pygments_lexer": "ipython3",
   "version": "3.12.7"
  }
 },
 "nbformat": 4,
 "nbformat_minor": 5
}
